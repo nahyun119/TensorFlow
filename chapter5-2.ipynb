{
 "cells": [
  {
   "cell_type": "code",
   "execution_count": 1,
   "metadata": {
    "colab": {
     "base_uri": "https://localhost:8080/",
     "height": 34
    },
    "colab_type": "code",
    "id": "8JUdkXA0o8T_",
    "outputId": "174288fb-4c0f-46f1-e7d3-ad545526a0fb"
   },
   "outputs": [
    {
     "name": "stdout",
     "output_type": "stream",
     "text": [
      "TensorFlow 2.x selected.\n"
     ]
    }
   ],
   "source": [
    "try : \n",
    "  %tensorflow_version 2.x\n",
    "except Exception:\n",
    "  pass\n",
    "import tensorflow as tf\n"
   ]
  },
  {
   "cell_type": "markdown",
   "metadata": {
    "colab_type": "text",
    "id": "faXhK6z6pgBA"
   },
   "source": [
    "# 5.1 Binary Classification"
   ]
  },
  {
   "cell_type": "code",
   "execution_count": 4,
   "metadata": {
    "colab": {
     "base_uri": "https://localhost:8080/",
     "height": 494
    },
    "colab_type": "code",
    "id": "1QbVmmgKpk0G",
    "outputId": "3f772ce1-67ce-4f5a-bd51-b8169efd93c0"
   },
   "outputs": [
    {
     "name": "stdout",
     "output_type": "stream",
     "text": [
      "   fixed acidity  volatile acidity  citric acid  ...  alcohol  quality  type\n",
      "0            7.4              0.70          0.0  ...      9.4        5     0\n",
      "1            7.8              0.88          0.0  ...      9.8        5     0\n",
      "\n",
      "[2 rows x 13 columns]\n",
      "   fixed acidity  volatile acidity  citric acid  ...  alcohol  quality  type\n",
      "0            7.0              0.27         0.36  ...      8.8        6     1\n",
      "1            6.3              0.30         0.34  ...      9.5        6     1\n",
      "\n",
      "[2 rows x 13 columns]\n"
     ]
    },
    {
     "data": {
      "image/png": "[encoded data removed]",
      "text/plain": [
       "<Figure size 432x288 with 1 Axes>"
      ]
     },
     "metadata": {
      "tags": []
     },
     "output_type": "display_data"
    },
    {
     "name": "stdout",
     "output_type": "stream",
     "text": [
      "1    4898\n",
      "0    1599\n",
      "Name: type, dtype: int64\n"
     ]
    }
   ],
   "source": [
    "import pandas as pd\n",
    "import matplotlib.pyplot as plt\n",
    "\n",
    "red = pd.read_csv('http://archive.ics.uci.edu/ml/machine-learning-databases/wine-quality/winequality-red.csv',sep=';')\n",
    "white = pd.read_csv('http://archive.ics.uci.edu/ml/machine-learning-databases/wine-quality/winequality-white.csv',sep=';')\n",
    "\n",
    "red['type'] = 0\n",
    "white['type'] = 1\n",
    "print(red.head(2))\n",
    "print(white.head(2))\n",
    "\n",
    "wine = pd.concat([red,white])\n",
    "\n",
    "plt.hist(wine['type'])\n",
    "plt.xticks([0,1])\n",
    "plt.show()\n",
    "\n",
    "print(wine['type'].value_counts())\n"
   ]
  },
  {
   "cell_type": "markdown",
   "metadata": {
    "colab_type": "text",
    "id": "ZZDUVQ6StaA8"
   },
   "source": [
    "정규화\n"
   ]
  },
  {
   "cell_type": "code",
   "execution_count": 5,
   "metadata": {
    "colab": {
     "base_uri": "https://localhost:8080/",
     "height": 527
    },
    "colab_type": "code",
    "id": "tRiwM3Q7tb5E",
    "outputId": "fa88bee5-963e-4b7e-81db-a860e3eb0d5d"
   },
   "outputs": [
    {
     "name": "stdout",
     "output_type": "stream",
     "text": [
      "   fixed acidity  volatile acidity  citric acid  ...  alcohol  quality  type\n",
      "0            7.4              0.70          0.0  ...      9.4        5     0\n",
      "1            7.8              0.88          0.0  ...      9.8        5     0\n",
      "\n",
      "[2 rows x 13 columns]\n",
      "   fixed acidity  volatile acidity  citric acid  ...  alcohol  quality  type\n",
      "0            7.0              0.27         0.36  ...      8.8        6     1\n",
      "1            6.3              0.30         0.34  ...      9.5        6     1\n",
      "\n",
      "[2 rows x 13 columns]\n",
      "   fixed acidity  volatile acidity  citric acid  ...   alcohol   quality  type\n",
      "0       0.297521          0.413333     0.000000  ...  0.202899  0.333333   0.0\n",
      "1       0.330579          0.533333     0.000000  ...  0.260870  0.333333   0.0\n",
      "2       0.330579          0.453333     0.024096  ...  0.260870  0.333333   0.0\n",
      "3       0.611570          0.133333     0.337349  ...  0.260870  0.500000   0.0\n",
      "4       0.297521          0.413333     0.000000  ...  0.202899  0.333333   0.0\n",
      "\n",
      "[5 rows x 13 columns]\n",
      "       fixed acidity  volatile acidity  ...      quality         type\n",
      "count    6497.000000       6497.000000  ...  6497.000000  6497.000000\n",
      "mean        0.282257          0.173111  ...     0.469730     0.753886\n",
      "std         0.107143          0.109758  ...     0.145543     0.430779\n",
      "min         0.000000          0.000000  ...     0.000000     0.000000\n",
      "25%         0.214876          0.100000  ...     0.333333     1.000000\n",
      "50%         0.264463          0.140000  ...     0.500000     1.000000\n",
      "75%         0.322314          0.213333  ...     0.500000     1.000000\n",
      "max         1.000000          1.000000  ...     1.000000     1.000000\n",
      "\n",
      "[8 rows x 13 columns]\n"
     ]
    }
   ],
   "source": [
    "import pandas as pd\n",
    "import matplotlib.pyplot as plt\n",
    "\n",
    "red = pd.read_csv('http://archive.ics.uci.edu/ml/machine-learning-databases/wine-quality/winequality-red.csv',sep=';')\n",
    "white = pd.read_csv('http://archive.ics.uci.edu/ml/machine-learning-databases/wine-quality/winequality-white.csv',sep=';')\n",
    "\n",
    "red['type'] = 0\n",
    "white['type'] = 1\n",
    "print(red.head(2))\n",
    "print(white.head(2))\n",
    "\n",
    "wine = pd.concat([red,white])\n",
    "\n",
    "wine_norm = (wine - wine.min()) / (wine.max() - wine.min())\n",
    "print(wine_norm.head())\n",
    "print(wine_norm.describe())\n",
    "#print(wine['type'].value_counts())"
   ]
  },
  {
   "cell_type": "markdown",
   "metadata": {
    "colab_type": "text",
    "id": "ZKupNay-uN68"
   },
   "source": [
    "train data와 test data 나누기"
   ]
  },
  {
   "cell_type": "code",
   "execution_count": 6,
   "metadata": {
    "colab": {
     "base_uri": "https://localhost:8080/",
     "height": 598
    },
    "colab_type": "code",
    "id": "55iAb9BouRzl",
    "outputId": "b0fb3834-a915-483d-e369-30bb6336a849"
   },
   "outputs": [
    {
     "name": "stdout",
     "output_type": "stream",
     "text": [
      "   fixed acidity  volatile acidity  citric acid  ...  alcohol  quality  type\n",
      "0            7.4              0.70          0.0  ...      9.4        5     0\n",
      "1            7.8              0.88          0.0  ...      9.8        5     0\n",
      "\n",
      "[2 rows x 13 columns]\n",
      "   fixed acidity  volatile acidity  citric acid  ...  alcohol  quality  type\n",
      "0            7.0              0.27         0.36  ...      8.8        6     1\n",
      "1            6.3              0.30         0.34  ...      9.5        6     1\n",
      "\n",
      "[2 rows x 13 columns]\n",
      "      fixed acidity  volatile acidity  citric acid  ...   alcohol   quality  type\n",
      "758        0.355372          0.526667     0.000000  ...  0.260870  0.333333   0.0\n",
      "3097       0.231405          0.466667     0.301205  ...  0.536232  0.333333   1.0\n",
      "2072       0.231405          0.100000     0.162651  ...  0.217391  0.333333   1.0\n",
      "1308       0.487603          0.406667     0.192771  ...  0.304348  0.333333   0.0\n",
      "4669       0.173554          0.240000     0.198795  ...  0.507246  0.333333   1.0\n",
      "\n",
      "[5 rows x 13 columns]\n",
      "[[0.3553719  0.52666667 0.         0.02453988 0.12458472 0.03125\n",
      "  0.05760369 0.18218623 0.41085271 0.15730337 0.26086957 0.33333333\n",
      "  0.        ]\n",
      " [0.23140496 0.46666667 0.30120482 0.01380368 0.05980066 0.10069444\n",
      "  0.29262673 0.07576634 0.41085271 0.14606742 0.53623188 0.33333333\n",
      "  1.        ]\n",
      " [0.23140496 0.1        0.1626506  0.07668712 0.05647841 0.14583333\n",
      "  0.3640553  0.15789474 0.42635659 0.30337079 0.2173913  0.33333333\n",
      "  1.        ]\n",
      " [0.48760331 0.40666667 0.19277108 0.0291411  0.13122924 0.07291667\n",
      "  0.19585253 0.20802005 0.44186047 0.2247191  0.30434783 0.33333333\n",
      "  0.        ]\n",
      " [0.17355372 0.24       0.19879518 0.00920245 0.06644518 0.03819444\n",
      "  0.25576037 0.08155003 0.57364341 0.12359551 0.50724638 0.33333333\n",
      "  1.        ]]\n"
     ]
    }
   ],
   "source": [
    "import pandas as pd\n",
    "import matplotlib.pyplot as plt\n",
    "import numpy as np\n",
    "import tensorflow as tf\n",
    "\n",
    "\n",
    "red = pd.read_csv('http://archive.ics.uci.edu/ml/machine-learning-databases/wine-quality/winequality-red.csv',sep=';')\n",
    "white = pd.read_csv('http://archive.ics.uci.edu/ml/machine-learning-databases/wine-quality/winequality-white.csv',sep=';')\n",
    "\n",
    "red['type'] = 0\n",
    "white['type'] = 1\n",
    "print(red.head(2))\n",
    "print(white.head(2))\n",
    "\n",
    "wine = pd.concat([red,white])\n",
    "\n",
    "wine_norm = (wine - wine.min()) / (wine.max() - wine.min())\n",
    "\n",
    "wine_shuffle = wine_norm.sample(frac =1)\n",
    "#print(wine_shuffle.head())\n",
    "wine_np = wine_shuffle.to_numpy()\n",
    "#print(wine_np[:5])\n",
    "train_idx = int(len(wine_np)*0.8)\n",
    "train_X, train_Y = wine_np[:train_idx, :-1], wine_np[:train_idx,-1]\n",
    "test_X, test_Y = wine_np[train_idx:, :-1], wine_np[train_idx:,-1]\n",
    "\n",
    "train_Y = tf.keras.utils.to_categorical(train_Y,num_classes=2)\n",
    "test_Y = tf.keras.utils.to_categorical(test_Y,num_classes=2)\n",
    "\n"
   ]
  },
  {
   "cell_type": "markdown",
   "metadata": {
    "colab_type": "text",
    "id": "z0R-C4gFw3wj"
   },
   "source": [
    "딥러닝"
   ]
  },
  {
   "cell_type": "code",
   "execution_count": 7,
   "metadata": {
    "colab": {
     "base_uri": "https://localhost:8080/",
     "height": 1000
    },
    "colab_type": "code",
    "id": "HJlFLhpYw5BP",
    "outputId": "18e93fe0-5324-4267-f894-59081f3193be"
   },
   "outputs": [
    {
     "name": "stdout",
     "output_type": "stream",
     "text": [
      "   fixed acidity  volatile acidity  citric acid  ...  alcohol  quality  type\n",
      "0            7.4              0.70          0.0  ...      9.4        5     0\n",
      "1            7.8              0.88          0.0  ...      9.8        5     0\n",
      "\n",
      "[2 rows x 13 columns]\n",
      "   fixed acidity  volatile acidity  citric acid  ...  alcohol  quality  type\n",
      "0            7.0              0.27         0.36  ...      8.8        6     1\n",
      "1            6.3              0.30         0.34  ...      9.5        6     1\n",
      "\n",
      "[2 rows x 13 columns]\n",
      "Train on 3897 samples, validate on 1300 samples\n",
      "Epoch 1/25\n",
      "3897/3897 [==============================] - 1s 212us/sample - loss: 0.1334 - accuracy: 0.9500 - val_loss: 0.0365 - val_accuracy: 0.9877\n",
      "Epoch 2/25\n",
      "3897/3897 [==============================] - 0s 69us/sample - loss: 0.0546 - accuracy: 0.9841 - val_loss: 0.0304 - val_accuracy: 0.9885\n",
      "Epoch 3/25\n",
      "3897/3897 [==============================] - 0s 68us/sample - loss: 0.0600 - accuracy: 0.9820 - val_loss: 0.0364 - val_accuracy: 0.9892\n",
      "Epoch 4/25\n",
      "3897/3897 [==============================] - 0s 67us/sample - loss: 0.0524 - accuracy: 0.9833 - val_loss: 0.0308 - val_accuracy: 0.9923\n",
      "Epoch 5/25\n",
      "3897/3897 [==============================] - 0s 69us/sample - loss: 0.0501 - accuracy: 0.9867 - val_loss: 0.0323 - val_accuracy: 0.9900\n",
      "Epoch 6/25\n",
      "3897/3897 [==============================] - 0s 67us/sample - loss: 0.0377 - accuracy: 0.9902 - val_loss: 0.0439 - val_accuracy: 0.9938\n",
      "Epoch 7/25\n",
      "3897/3897 [==============================] - 0s 68us/sample - loss: 0.0398 - accuracy: 0.9887 - val_loss: 0.0253 - val_accuracy: 0.9938\n",
      "Epoch 8/25\n",
      "3897/3897 [==============================] - 0s 70us/sample - loss: 0.0748 - accuracy: 0.9764 - val_loss: 0.0863 - val_accuracy: 0.9746\n",
      "Epoch 9/25\n",
      "3897/3897 [==============================] - 0s 68us/sample - loss: 0.0394 - accuracy: 0.9895 - val_loss: 0.0198 - val_accuracy: 0.9954\n",
      "Epoch 10/25\n",
      "3897/3897 [==============================] - 0s 69us/sample - loss: 0.0376 - accuracy: 0.9908 - val_loss: 0.0231 - val_accuracy: 0.9954\n",
      "Epoch 11/25\n",
      "3897/3897 [==============================] - 0s 65us/sample - loss: 0.0592 - accuracy: 0.9854 - val_loss: 0.0501 - val_accuracy: 0.9831\n",
      "Epoch 12/25\n",
      "3897/3897 [==============================] - 0s 68us/sample - loss: 0.0427 - accuracy: 0.9869 - val_loss: 0.0308 - val_accuracy: 0.9900\n",
      "Epoch 13/25\n",
      "3897/3897 [==============================] - 0s 69us/sample - loss: 0.0343 - accuracy: 0.9900 - val_loss: 0.0283 - val_accuracy: 0.9931\n",
      "Epoch 14/25\n",
      "3897/3897 [==============================] - 0s 72us/sample - loss: 0.0307 - accuracy: 0.9915 - val_loss: 0.0313 - val_accuracy: 0.9877\n",
      "Epoch 15/25\n",
      "3897/3897 [==============================] - 0s 74us/sample - loss: 0.0342 - accuracy: 0.9902 - val_loss: 0.0368 - val_accuracy: 0.9885\n",
      "Epoch 16/25\n",
      "3897/3897 [==============================] - 0s 68us/sample - loss: 0.0422 - accuracy: 0.9874 - val_loss: 0.0342 - val_accuracy: 0.9885\n",
      "Epoch 17/25\n",
      "3897/3897 [==============================] - 0s 69us/sample - loss: 0.0307 - accuracy: 0.9913 - val_loss: 0.0320 - val_accuracy: 0.9885\n",
      "Epoch 18/25\n",
      "3897/3897 [==============================] - 0s 66us/sample - loss: 0.0430 - accuracy: 0.9882 - val_loss: 0.0311 - val_accuracy: 0.9900\n",
      "Epoch 19/25\n",
      "3897/3897 [==============================] - 0s 65us/sample - loss: 0.0443 - accuracy: 0.9895 - val_loss: 0.0287 - val_accuracy: 0.9923\n",
      "Epoch 20/25\n",
      "3897/3897 [==============================] - 0s 69us/sample - loss: 0.0321 - accuracy: 0.9913 - val_loss: 0.0260 - val_accuracy: 0.9915\n",
      "Epoch 21/25\n",
      "3897/3897 [==============================] - 0s 70us/sample - loss: 0.0313 - accuracy: 0.9915 - val_loss: 0.0387 - val_accuracy: 0.9908\n",
      "Epoch 22/25\n",
      "3897/3897 [==============================] - 0s 71us/sample - loss: 0.0338 - accuracy: 0.9918 - val_loss: 0.0209 - val_accuracy: 0.9962\n",
      "Epoch 23/25\n",
      "3897/3897 [==============================] - 0s 69us/sample - loss: 0.0276 - accuracy: 0.9928 - val_loss: 0.0244 - val_accuracy: 0.9962\n",
      "Epoch 24/25\n",
      "3897/3897 [==============================] - 0s 68us/sample - loss: 0.0318 - accuracy: 0.9923 - val_loss: 0.0274 - val_accuracy: 0.9946\n",
      "Epoch 25/25\n",
      "3897/3897 [==============================] - 0s 70us/sample - loss: 0.0379 - accuracy: 0.9892 - val_loss: 0.0375 - val_accuracy: 0.9915\n"
     ]
    }
   ],
   "source": [
    "import pandas as pd\n",
    "import matplotlib.pyplot as plt\n",
    "import numpy as np\n",
    "import tensorflow as tf\n",
    "\n",
    "\n",
    "red = pd.read_csv('http://archive.ics.uci.edu/ml/machine-learning-databases/wine-quality/winequality-red.csv',sep=';')\n",
    "white = pd.read_csv('http://archive.ics.uci.edu/ml/machine-learning-databases/wine-quality/winequality-white.csv',sep=';')\n",
    "\n",
    "red['type'] = 0\n",
    "white['type'] = 1\n",
    "print(red.head(2))\n",
    "print(white.head(2))\n",
    "\n",
    "wine = pd.concat([red,white])\n",
    "\n",
    "wine_norm = (wine - wine.min()) / (wine.max() - wine.min())\n",
    "\n",
    "wine_shuffle = wine_norm.sample(frac =1)\n",
    "#print(wine_shuffle.head())\n",
    "wine_np = wine_shuffle.to_numpy()\n",
    "#print(wine_np[:5])\n",
    "train_idx = int(len(wine_np)*0.8)\n",
    "train_X, train_Y = wine_np[:train_idx, :-1], wine_np[:train_idx,-1]\n",
    "test_X, test_Y = wine_np[train_idx:, :-1], wine_np[train_idx:,-1]\n",
    "\n",
    "train_Y = tf.keras.utils.to_categorical(train_Y,num_classes=2)\n",
    "test_Y = tf.keras.utils.to_categorical(test_Y,num_classes=2)\n",
    "\n",
    "model = tf.keras.Sequential([\n",
    "      tf.keras.layers.Dense(units=48, activation='relu',input_shape=(12,)),\n",
    "      tf.keras.layers.Dense(units=24, activation='relu'),\n",
    "      tf.keras.layers.Dense(units=12, activation='relu'),\n",
    "      tf.keras.layers.Dense(units=2, activation='softmax'),\n",
    "])\n",
    "\n",
    "model.compile(optimizer=tf.keras.optimizers.Adam(lr=0.07),\n",
    "              loss='sparse_categorical_crossentropy', metrics=['accuracy'])\n",
    "\n",
    "#model.summary()\n",
    "train_Y = np.argmax(train_Y, axis=1)\n",
    "history = model.fit(train_X, train_Y, epochs=25, batch_size=32, validation_split=0.25)"
   ]
  },
  {
   "cell_type": "markdown",
   "metadata": {
    "colab_type": "text",
    "id": "2Hvi_JVC8YME"
   },
   "source": [
    "시각화"
   ]
  },
  {
   "cell_type": "code",
   "execution_count": 9,
   "metadata": {
    "colab": {
     "base_uri": "https://localhost:8080/",
     "height": 1000
    },
    "colab_type": "code",
    "id": "vrQ4JeOA8bWS",
    "outputId": "e9c9bf91-c52f-44a7-fe6d-ceebbcfdf57d"
   },
   "outputs": [
    {
     "name": "stdout",
     "output_type": "stream",
     "text": [
      "   fixed acidity  volatile acidity  citric acid  ...  alcohol  quality  type\n",
      "0            7.4              0.70          0.0  ...      9.4        5     0\n",
      "1            7.8              0.88          0.0  ...      9.8        5     0\n",
      "\n",
      "[2 rows x 13 columns]\n",
      "   fixed acidity  volatile acidity  citric acid  ...  alcohol  quality  type\n",
      "0            7.0              0.27         0.36  ...      8.8        6     1\n",
      "1            6.3              0.30         0.34  ...      9.5        6     1\n",
      "\n",
      "[2 rows x 13 columns]\n",
      "Train on 3897 samples, validate on 1300 samples\n",
      "Epoch 1/25\n",
      "3897/3897 [==============================] - 1s 166us/sample - loss: 0.1543 - accuracy: 0.9405 - val_loss: 0.0564 - val_accuracy: 0.9815\n",
      "Epoch 2/25\n",
      "3897/3897 [==============================] - 0s 73us/sample - loss: 0.0770 - accuracy: 0.9779 - val_loss: 0.0452 - val_accuracy: 0.9892\n",
      "Epoch 3/25\n",
      "3897/3897 [==============================] - 0s 73us/sample - loss: 0.0651 - accuracy: 0.9836 - val_loss: 0.0381 - val_accuracy: 0.9892\n",
      "Epoch 4/25\n",
      "3897/3897 [==============================] - 0s 73us/sample - loss: 0.0855 - accuracy: 0.9800 - val_loss: 0.0764 - val_accuracy: 0.9862\n",
      "Epoch 5/25\n",
      "3897/3897 [==============================] - 0s 72us/sample - loss: 0.0589 - accuracy: 0.9846 - val_loss: 0.0365 - val_accuracy: 0.9923\n",
      "Epoch 6/25\n",
      "3897/3897 [==============================] - 0s 66us/sample - loss: 0.0430 - accuracy: 0.9895 - val_loss: 0.0525 - val_accuracy: 0.9838\n",
      "Epoch 7/25\n",
      "3897/3897 [==============================] - 0s 78us/sample - loss: 0.0460 - accuracy: 0.9851 - val_loss: 0.0366 - val_accuracy: 0.9923\n",
      "Epoch 8/25\n",
      "3897/3897 [==============================] - 0s 73us/sample - loss: 0.0455 - accuracy: 0.9887 - val_loss: 0.0402 - val_accuracy: 0.9938\n",
      "Epoch 9/25\n",
      "3897/3897 [==============================] - 0s 67us/sample - loss: 0.0504 - accuracy: 0.9872 - val_loss: 0.0326 - val_accuracy: 0.9931\n",
      "Epoch 10/25\n",
      "3897/3897 [==============================] - 0s 73us/sample - loss: 0.0593 - accuracy: 0.9846 - val_loss: 0.0359 - val_accuracy: 0.9931\n",
      "Epoch 11/25\n",
      "3897/3897 [==============================] - 0s 64us/sample - loss: 0.0408 - accuracy: 0.9908 - val_loss: 0.0336 - val_accuracy: 0.9931\n",
      "Epoch 12/25\n",
      "3897/3897 [==============================] - 0s 72us/sample - loss: 0.0436 - accuracy: 0.9890 - val_loss: 0.0307 - val_accuracy: 0.9923\n",
      "Epoch 13/25\n",
      "3897/3897 [==============================] - 0s 72us/sample - loss: 0.0475 - accuracy: 0.9900 - val_loss: 0.0347 - val_accuracy: 0.9931\n",
      "Epoch 14/25\n",
      "3897/3897 [==============================] - 0s 72us/sample - loss: 0.0358 - accuracy: 0.9910 - val_loss: 0.0271 - val_accuracy: 0.9946\n",
      "Epoch 15/25\n",
      "3897/3897 [==============================] - 0s 72us/sample - loss: 0.0439 - accuracy: 0.9879 - val_loss: 0.0387 - val_accuracy: 0.9900\n",
      "Epoch 16/25\n",
      "3897/3897 [==============================] - 0s 65us/sample - loss: 0.0508 - accuracy: 0.9869 - val_loss: 0.0308 - val_accuracy: 0.9915\n",
      "Epoch 17/25\n",
      "3897/3897 [==============================] - 0s 68us/sample - loss: 0.0413 - accuracy: 0.9902 - val_loss: 0.0268 - val_accuracy: 0.9938\n",
      "Epoch 18/25\n",
      "3897/3897 [==============================] - 0s 71us/sample - loss: 0.0409 - accuracy: 0.9895 - val_loss: 0.0345 - val_accuracy: 0.9931\n",
      "Epoch 19/25\n",
      "3897/3897 [==============================] - 0s 70us/sample - loss: 0.0518 - accuracy: 0.9864 - val_loss: 0.0422 - val_accuracy: 0.9915\n",
      "Epoch 20/25\n",
      "3897/3897 [==============================] - 0s 67us/sample - loss: 0.0435 - accuracy: 0.9902 - val_loss: 0.0347 - val_accuracy: 0.9908\n",
      "Epoch 21/25\n",
      "3897/3897 [==============================] - 0s 66us/sample - loss: 0.0422 - accuracy: 0.9902 - val_loss: 0.0358 - val_accuracy: 0.9931\n",
      "Epoch 22/25\n",
      "3897/3897 [==============================] - 0s 66us/sample - loss: 0.0331 - accuracy: 0.9920 - val_loss: 0.0221 - val_accuracy: 0.9938\n",
      "Epoch 23/25\n",
      "3897/3897 [==============================] - 0s 67us/sample - loss: 0.0327 - accuracy: 0.9923 - val_loss: 0.0419 - val_accuracy: 0.9892\n",
      "Epoch 24/25\n",
      "3897/3897 [==============================] - 0s 66us/sample - loss: 0.0331 - accuracy: 0.9933 - val_loss: 0.0393 - val_accuracy: 0.9869\n",
      "Epoch 25/25\n",
      "3897/3897 [==============================] - 0s 68us/sample - loss: 0.0467 - accuracy: 0.9856 - val_loss: 0.0267 - val_accuracy: 0.9938\n",
      "1300/1300 [==============================] - 0s 33us/sample - loss: 0.0416 - accuracy: 0.9946\n"
     ]
    },
    {
     "data": {
      "text/plain": [
       "[0.04162054289060717, 0.9946154]"
      ]
     },
     "execution_count": 9,
     "metadata": {
      "tags": []
     },
     "output_type": "execute_result"
    }
   ],
   "source": [
    "import pandas as pd\n",
    "import matplotlib.pyplot as plt\n",
    "import numpy as np\n",
    "import tensorflow as tf\n",
    "import matplotlib.pyplot as plt\n",
    "\n",
    "\n",
    "\n",
    "red = pd.read_csv('http://archive.ics.uci.edu/ml/machine-learning-databases/wine-quality/winequality-red.csv',sep=';')\n",
    "white = pd.read_csv('http://archive.ics.uci.edu/ml/machine-learning-databases/wine-quality/winequality-white.csv',sep=';')\n",
    "\n",
    "red['type'] = 0\n",
    "white['type'] = 1\n",
    "print(red.head(2))\n",
    "print(white.head(2))\n",
    "\n",
    "wine = pd.concat([red,white])\n",
    "\n",
    "wine_norm = (wine - wine.min()) / (wine.max() - wine.min())\n",
    "\n",
    "wine_shuffle = wine_norm.sample(frac =1)\n",
    "#print(wine_shuffle.head())\n",
    "wine_np = wine_shuffle.to_numpy()\n",
    "#print(wine_np[:5])\n",
    "train_idx = int(len(wine_np)*0.8)\n",
    "train_X, train_Y = wine_np[:train_idx, :-1], wine_np[:train_idx,-1]\n",
    "test_X, test_Y = wine_np[train_idx:, :-1], wine_np[train_idx:,-1]\n",
    "\n",
    "train_Y = tf.keras.utils.to_categorical(train_Y,num_classes=2)\n",
    "test_Y = tf.keras.utils.to_categorical(test_Y,num_classes=2)\n",
    "\n",
    "model = tf.keras.Sequential([\n",
    "      tf.keras.layers.Dense(units=48, activation='relu',input_shape=(12,)),\n",
    "      tf.keras.layers.Dense(units=24, activation='relu'),\n",
    "      tf.keras.layers.Dense(units=12, activation='relu'),\n",
    "      tf.keras.layers.Dense(units=2, activation='softmax'),\n",
    "])\n",
    "\n",
    "model.compile(optimizer=tf.keras.optimizers.Adam(lr=0.07),\n",
    "              loss='sparse_categorical_crossentropy', metrics=['accuracy'])\n",
    "\n",
    "#model.summary()\n",
    "train_Y = np.argmax(train_Y, axis=1)\n",
    "history = model.fit(train_X, train_Y, epochs=25, batch_size=32, validation_split=0.25)\n",
    "\n",
    "#plt.figure(figsize=(12,4))\n",
    "\n",
    "#plt.subplot(1,2,1)\n",
    "#plt.plot(history.history['loss'],'b-',label='loss')\n",
    "#plt.plot(hist)\n",
    "test_Y = np.argmax(test_Y, axis=1)\n",
    "model.evaluate(test_X,test_Y)"
   ]
  },
  {
   "cell_type": "markdown",
   "metadata": {
    "colab_type": "text",
    "id": "NyLlpHON9gV4"
   },
   "source": [
    "# 5.2 다항 분류"
   ]
  },
  {
   "cell_type": "code",
   "execution_count": 2,
   "metadata": {
    "colab": {
     "base_uri": "https://localhost:8080/",
     "height": 740
    },
    "colab_type": "code",
    "id": "Sr-1hNd79kwA",
    "outputId": "5eb7e5b7-d7b2-4fc0-cdcf-9351f2b57c6d"
   },
   "outputs": [
    {
     "name": "stdout",
     "output_type": "stream",
     "text": [
      "   fixed acidity  volatile acidity  citric acid  residual sugar  chlorides  \\\n",
      "0            7.4              0.70          0.0             1.9      0.076   \n",
      "1            7.8              0.88          0.0             2.6      0.098   \n",
      "\n",
      "   free sulfur dioxide  total sulfur dioxide  density    pH  sulphates  \\\n",
      "0                 11.0                  34.0   0.9978  3.51       0.56   \n",
      "1                 25.0                  67.0   0.9968  3.20       0.68   \n",
      "\n",
      "   alcohol  quality  type  \n",
      "0      9.4        5     0  \n",
      "1      9.8        5     0  \n",
      "   fixed acidity  volatile acidity  citric acid  residual sugar  chlorides  \\\n",
      "0            7.0              0.27         0.36            20.7      0.045   \n",
      "1            6.3              0.30         0.34             1.6      0.049   \n",
      "\n",
      "   free sulfur dioxide  total sulfur dioxide  density   pH  sulphates  \\\n",
      "0                 45.0                 170.0    1.001  3.0       0.45   \n",
      "1                 14.0                 132.0    0.994  3.3       0.49   \n",
      "\n",
      "   alcohol  quality  type  \n",
      "0      8.8        6     1  \n",
      "1      9.5        6     1  \n",
      "count    6497.000000\n",
      "mean        5.818378\n",
      "std         0.873255\n",
      "min         3.000000\n",
      "25%         5.000000\n",
      "50%         6.000000\n",
      "75%         6.000000\n",
      "max         9.000000\n",
      "Name: quality, dtype: float64\n",
      "6    2836\n",
      "5    2138\n",
      "7    1079\n",
      "4     216\n",
      "8     193\n",
      "3      30\n",
      "9       5\n",
      "Name: quality, dtype: int64\n",
      "count    5418.000000\n",
      "mean        0.596530\n",
      "std         0.560205\n",
      "min         0.000000\n",
      "25%         0.000000\n",
      "50%         1.000000\n",
      "75%         1.000000\n",
      "max         2.000000\n",
      "Name: new_quality, dtype: float64\n",
      "1.0    2836\n",
      "0.0    2384\n",
      "2.0     198\n",
      "Name: new_quality, dtype: int64\n"
     ]
    },
    {
     "name": "stderr",
     "output_type": "stream",
     "text": [
      "C:\\Users\\A\\anaconda3\\envs\\tensorflow2\\lib\\site-packages\\numpy\\lib\\histograms.py:839: RuntimeWarning: invalid value encountered in greater_equal\n",
      "  keep = (tmp_a >= first_edge)\n",
      "C:\\Users\\A\\anaconda3\\envs\\tensorflow2\\lib\\site-packages\\numpy\\lib\\histograms.py:840: RuntimeWarning: invalid value encountered in less_equal\n",
      "  keep &= (tmp_a <= last_edge)\n"
     ]
    },
    {
     "data": {
      "image/png": "[encoded data removed]",
      "text/plain": [
       "<Figure size 432x288 with 1 Axes>"
      ]
     },
     "metadata": {
      "needs_background": "light"
     },
     "output_type": "display_data"
    }
   ],
   "source": [
    "import pandas as pd\n",
    "import matplotlib.pyplot as plt\n",
    "\n",
    "red = pd.read_csv('http://archive.ics.uci.edu/ml/machine-learning-databases/wine-quality/winequality-red.csv',sep=';')\n",
    "white = pd.read_csv('http://archive.ics.uci.edu/ml/machine-learning-databases/wine-quality/winequality-white.csv',sep=';')\n",
    "\n",
    "red['type'] = 0\n",
    "white['type'] = 1\n",
    "print(red.head(2))\n",
    "print(white.head(2))\n",
    "\n",
    "wine = pd.concat([red,white])\n",
    "wine.loc[wine['quality'] <= 5, 'new_quality'] = 0\n",
    "wine.loc[wine['quality'] == 6, 'new_quality'] = 1\n",
    "wine.loc[wine['quality'] > 7, 'new_quality'] = 2\n",
    "print(wine['quality'].describe())\n",
    "print(wine['quality'].value_counts())\n",
    "print(wine['new_quality'].describe())\n",
    "print(wine['new_quality'].value_counts())\n",
    "plt.hist(wine['new_quality'],bins=7,rwidth=0.8)\n",
    "plt.show()"
   ]
  },
  {
   "cell_type": "code",
   "execution_count": null,
   "metadata": {},
   "outputs": [],
   "source": []
  },
  {
   "cell_type": "code",
   "execution_count": 11,
   "metadata": {},
   "outputs": [
    {
     "name": "stdout",
     "output_type": "stream",
     "text": [
      "   fixed acidity  volatile acidity  citric acid  residual sugar  chlorides  \\\n",
      "0            7.4              0.70          0.0             1.9      0.076   \n",
      "1            7.8              0.88          0.0             2.6      0.098   \n",
      "\n",
      "   free sulfur dioxide  total sulfur dioxide  density    pH  sulphates  \\\n",
      "0                 11.0                  34.0   0.9978  3.51       0.56   \n",
      "1                 25.0                  67.0   0.9968  3.20       0.68   \n",
      "\n",
      "   alcohol  quality  type  \n",
      "0      9.4        5     0  \n",
      "1      9.8        5     0  \n",
      "   fixed acidity  volatile acidity  citric acid  residual sugar  chlorides  \\\n",
      "0            7.0              0.27         0.36            20.7      0.045   \n",
      "1            6.3              0.30         0.34             1.6      0.049   \n",
      "\n",
      "   free sulfur dioxide  total sulfur dioxide  density   pH  sulphates  \\\n",
      "0                 45.0                 170.0    1.001  3.0       0.45   \n",
      "1                 14.0                 132.0    0.994  3.3       0.49   \n",
      "\n",
      "   alcohol  quality  type  \n",
      "0      8.8        6     1  \n",
      "1      9.5        6     1  \n",
      "count    6497.000000\n",
      "mean        0.829614\n",
      "std         0.731124\n",
      "min         0.000000\n",
      "25%         0.000000\n",
      "50%         1.000000\n",
      "75%         1.000000\n",
      "max         2.000000\n",
      "Name: new_quality, dtype: float64\n",
      "1.0    2836\n",
      "0.0    2384\n",
      "2.0    1277\n",
      "Name: new_quality, dtype: int64\n",
      "Train on 3897 samples, validate on 1300 samples\n",
      "Epoch 1/25\n",
      "3897/3897 [==============================] - 3s 712us/sample - loss: 0.4644 - accuracy: 0.7975 - val_loss: 0.3948 - val_accuracy: 0.8054\n",
      "Epoch 2/25\n",
      "3897/3897 [==============================] - 1s 134us/sample - loss: 0.4194 - accuracy: 0.8022 - val_loss: 0.4217 - val_accuracy: 0.8054\n",
      "Epoch 3/25\n",
      "3897/3897 [==============================] - 1s 139us/sample - loss: 0.4296 - accuracy: 0.7978 - val_loss: 0.3926 - val_accuracy: 0.8054\n",
      "Epoch 4/25\n",
      "3897/3897 [==============================] - 1s 163us/sample - loss: 0.4117 - accuracy: 0.8050 - val_loss: 0.4366 - val_accuracy: 0.7769\n",
      "Epoch 5/25\n",
      "3897/3897 [==============================] - 1s 132us/sample - loss: 0.4162 - accuracy: 0.8070 - val_loss: 0.4057 - val_accuracy: 0.8038\n",
      "Epoch 6/25\n",
      "3897/3897 [==============================] - 1s 158us/sample - loss: 0.4072 - accuracy: 0.8045 - val_loss: 0.4261 - val_accuracy: 0.7992\n",
      "Epoch 7/25\n",
      "3897/3897 [==============================] - 1s 133us/sample - loss: 0.4030 - accuracy: 0.7991 - val_loss: 0.4105 - val_accuracy: 0.8177\n",
      "Epoch 8/25\n",
      "3897/3897 [==============================] - 1s 135us/sample - loss: 0.4079 - accuracy: 0.8086 - val_loss: 0.4014 - val_accuracy: 0.7900\n",
      "Epoch 9/25\n",
      "3897/3897 [==============================] - 0s 126us/sample - loss: 0.4049 - accuracy: 0.7998 - val_loss: 0.3816 - val_accuracy: 0.8054\n",
      "Epoch 10/25\n",
      "3897/3897 [==============================] - 1s 165us/sample - loss: 0.4005 - accuracy: 0.8124 - val_loss: 0.3817 - val_accuracy: 0.8169\n",
      "Epoch 11/25\n",
      "3897/3897 [==============================] - 1s 149us/sample - loss: 0.3987 - accuracy: 0.8229 - val_loss: 0.3846 - val_accuracy: 0.8131\n",
      "Epoch 12/25\n",
      "3897/3897 [==============================] - 1s 138us/sample - loss: 0.3926 - accuracy: 0.8227 - val_loss: 0.3975 - val_accuracy: 0.8008\n",
      "Epoch 13/25\n",
      "3897/3897 [==============================] - 1s 160us/sample - loss: 0.4076 - accuracy: 0.8088 - val_loss: 0.3904 - val_accuracy: 0.8054\n",
      "Epoch 14/25\n",
      "3897/3897 [==============================] - 1s 181us/sample - loss: 0.4046 - accuracy: 0.8119 - val_loss: 0.4354 - val_accuracy: 0.8185\n",
      "Epoch 15/25\n",
      "3897/3897 [==============================] - 1s 210us/sample - loss: 0.4049 - accuracy: 0.8032 - val_loss: 0.3783 - val_accuracy: 0.8123\n",
      "Epoch 16/25\n",
      "3897/3897 [==============================] - 1s 169us/sample - loss: 0.3949 - accuracy: 0.8178 - val_loss: 0.3889 - val_accuracy: 0.8246\n",
      "Epoch 17/25\n",
      "3897/3897 [==============================] - 1s 191us/sample - loss: 0.4027 - accuracy: 0.8186 - val_loss: 0.3989 - val_accuracy: 0.8200\n",
      "Epoch 18/25\n",
      "3897/3897 [==============================] - 1s 158us/sample - loss: 0.3945 - accuracy: 0.8160 - val_loss: 0.3847 - val_accuracy: 0.8054\n",
      "Epoch 19/25\n",
      "3897/3897 [==============================] - 1s 170us/sample - loss: 0.3901 - accuracy: 0.8211 - val_loss: 0.3870 - val_accuracy: 0.8138\n",
      "Epoch 20/25\n",
      "3897/3897 [==============================] - 1s 160us/sample - loss: 0.3887 - accuracy: 0.8147 - val_loss: 0.3951 - val_accuracy: 0.8054\n",
      "Epoch 21/25\n",
      "3897/3897 [==============================] - 1s 152us/sample - loss: 0.3950 - accuracy: 0.8209 - val_loss: 0.4064 - val_accuracy: 0.8154\n",
      "Epoch 22/25\n",
      "3897/3897 [==============================] - 1s 149us/sample - loss: 0.3975 - accuracy: 0.8045 - val_loss: 0.3983 - val_accuracy: 0.7692\n",
      "Epoch 23/25\n",
      "3897/3897 [==============================] - 1s 167us/sample - loss: 0.3993 - accuracy: 0.8193 - val_loss: 0.3784 - val_accuracy: 0.8162\n",
      "Epoch 24/25\n",
      "3897/3897 [==============================] - 1s 152us/sample - loss: 0.3999 - accuracy: 0.8173 - val_loss: 0.4325 - val_accuracy: 0.8062\n",
      "Epoch 25/25\n",
      "3897/3897 [==============================] - 1s 139us/sample - loss: 0.4027 - accuracy: 0.8083 - val_loss: 0.3754 - val_accuracy: 0.8200\n"
     ]
    }
   ],
   "source": [
    "import pandas as pd\n",
    "import matplotlib.pyplot as plt\n",
    "import tensorflow as tf\n",
    "\n",
    "red = pd.read_csv('http://archive.ics.uci.edu/ml/machine-learning-databases/wine-quality/winequality-red.csv',sep=';')\n",
    "white = pd.read_csv('http://archive.ics.uci.edu/ml/machine-learning-databases/wine-quality/winequality-white.csv',sep=';')\n",
    "\n",
    "red['type'] = 0\n",
    "white['type'] = 1\n",
    "print(red.head(2))\n",
    "print(white.head(2))\n",
    "\n",
    "wine = pd.concat([red,white])\n",
    "wine.loc[wine['quality'] <= 5, 'new_quality'] = 0\n",
    "wine.loc[wine['quality'] == 6, 'new_quality'] = 1\n",
    "wine.loc[wine['quality'] >= 7, 'new_quality'] = 2\n",
    "print(wine['new_quality'].describe())\n",
    "print(wine['new_quality'].value_counts())\n",
    "\n",
    "\n",
    "del wine['quality']\n",
    "wine_norm = (wine - wine.min())/(wine.max() - wine.min()) #정규화\n",
    "wine_shuffle = wine_norm.sample(frac =1)\n",
    "wine_np = wine_shuffle.to_numpy()\n",
    "\n",
    "\n",
    "#전체 데이터의 80%를 훈련에, 나머지는 test 데이터로 이용할 수 있도록 분리\n",
    "train_idx = int(len(wine_np) * 0.8) \n",
    "train_X , train_Y = wine_np[:train_idx, :-1], wine_np[:train_idx, -1]\n",
    "test_X, test_Y = wine_np[train_idx:, :-1], wine_np[train_idx:, -1]\n",
    "train_Y = tf.keras.utils.to_categorical(train_Y, num_classes=3)\n",
    "test_Y = tf.keras.utils.to_categorical(test_Y, num_classes=3)\n",
    "\n",
    "#학습 모델 생성\n",
    "model = tf.keras.Sequential([\n",
    "    tf.keras.layers.Dense(units=48,activation='relu',input_shape=(12,)),\n",
    "    tf.keras.layers.Dense(units=24,activation='relu'),\n",
    "    tf.keras.layers.Dense(units =12,activation='relu'),\n",
    "    tf.keras.layers.Dense(units =3,activation='softmax')\n",
    "])\n",
    "\n",
    "model.compile(optimizer=tf.keras.optimizers.Adam(lr=0.07), loss = 'categorical_crossentropy',metrics=['accuracy'])\n",
    "\n",
    "history = model.fit(train_X, train_Y, epochs=25, batch_size=32, validation_split=0.25)\n",
    "\n",
    "\n"
   ]
  },
  {
   "cell_type": "code",
   "execution_count": null,
   "metadata": {},
   "outputs": [],
   "source": []
  }
 ],
 "metadata": {
  "colab": {
   "collapsed_sections": [],
   "name": "Untitled2.ipynb",
   "provenance": [],
   "toc_visible": true
  },
  "kernelspec": {
   "display_name": "Python 3",
   "language": "python",
   "name": "python3"
  },
  "language_info": {
   "codemirror_mode": {
    "name": "ipython",
    "version": 3
   },
   "file_extension": ".py",
   "mimetype": "text/x-python",
   "name": "python",
   "nbconvert_exporter": "python",
   "pygments_lexer": "ipython3",
   "version": "3.7.6"
  }
 },
 "nbformat": 4,
 "nbformat_minor": 1
}
